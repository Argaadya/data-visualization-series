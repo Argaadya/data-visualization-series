{
 "cells": [
  {
   "cell_type": "markdown",
   "metadata": {},
   "source": [
    "# Exploratory Data Analysis with python\n",
    "\n",
    "python is one of the most popular tools to do data science. In this post, I will illustrate how to do exploratory data analysis using python and it's popular libraries.\n",
    "\n",
    "\n",
    "## Importing Libraries\n",
    "\n",
    "In this process, we will import all required libraries that is often used for data exploration and visualization."
   ]
  },
  {
   "cell_type": "code",
   "execution_count": 130,
   "metadata": {},
   "outputs": [],
   "source": [
    "# data wrangling\n",
    "import numpy as np\n",
    "import pandas as pd\n",
    "from datetime import datetime\n",
    "import math\n",
    "\n",
    "# data visualization\n",
    "import matplotlib.pyplot as plt\n",
    "import seaborn as sns\n",
    "\n",
    "# use the inline backend to generate the plots within the browser\n",
    "%matplotlib inline"
   ]
  },
  {
   "cell_type": "markdown",
   "metadata": {},
   "source": [
    "## Import Data\n",
    "\n",
    "The data come from Kiva, an online crowdfunding platform to extend financial services to poor and financially excluded people around the world. Kiva lenders have provided over $1 billion dollars in loans to over 2 million people. \n",
    "\n",
    "The first step to do data analysis is by importing the data from our local computer or from the internet into our python environment. After we import the data, we can check the dimension of our dataset to see how many rows and column in the dataset."
   ]
  },
  {
   "cell_type": "code",
   "execution_count": 28,
   "metadata": {},
   "outputs": [
    {
     "name": "stdout",
     "output_type": "stream",
     "text": [
      "Dimension of the data (rows, columns):  (165040, 14)\n"
     ]
    }
   ],
   "source": [
    "# Import data\n",
    "kiva = pd.read_csv(\"loan_kiva.csv\")\n",
    "\n",
    "# Display dimension of data\n",
    "print(\"Dimension of the data (rows, columns): \", kiva.shape)"
   ]
  },
  {
   "cell_type": "markdown",
   "metadata": {},
   "source": [
    "To see the name of each columns and the respective data type, we can use `dtypes`."
   ]
  },
  {
   "cell_type": "code",
   "execution_count": 35,
   "metadata": {},
   "outputs": [
    {
     "data": {
      "text/plain": [
       "id                     int64\n",
       "funded_amount          int64\n",
       "loan_amount            int64\n",
       "activity              object\n",
       "sector                object\n",
       "country               object\n",
       "region                object\n",
       "currency              object\n",
       "partner_id             int64\n",
       "posted_time           object\n",
       "funded_time           object\n",
       "term_in_months         int64\n",
       "lender_count           int64\n",
       "repayment_interval    object\n",
       "dtype: object"
      ]
     },
     "execution_count": 35,
     "metadata": {},
     "output_type": "execute_result"
    }
   ],
   "source": [
    "kiva.dtypes"
   ]
  },
  {
   "cell_type": "markdown",
   "metadata": {},
   "source": [
    "**Data Description**\n",
    "\n",
    "- `id`: Unique ID for loan\n",
    "- `funded_amount`: The amount disbursed by Kiva to the field agent(USD)\n",
    "- `loan_amount`: The amount disbursed by the field agent to the borrower(USD)\n",
    "- `sector`: High level category\n",
    "- `activity`: More granular category\n",
    "- `use`: Exact use of loan amount\n",
    "- `country`: Name of the country\n",
    "- `region`: Full region name within the country\n",
    "- `currenct`: The currency in which the loan was disbursed\n",
    "- `partned_id`: ID of the partner organization\n",
    "- `posted_time`: The time at which the loan is posted on Kiva by the field agent\n",
    "- `funded_time`: The time at which the loan posted to Kiva gets funded completly by lenders\n",
    "- `term_in_months`: The duration for which the loan was disbursed in months\n",
    "- `lender_count`: The total number of lenders that contributed to this loan\n",
    "- `repayment_interval`: Interval of the repayment method\n",
    "\n",
    "To see the first *n* observation of our data, we can use `head`. For example, here are the first 10 observations of the dataset."
   ]
  },
  {
   "cell_type": "code",
   "execution_count": 29,
   "metadata": {},
   "outputs": [
    {
     "data": {
      "text/html": [
       "<div>\n",
       "<style scoped>\n",
       "    .dataframe tbody tr th:only-of-type {\n",
       "        vertical-align: middle;\n",
       "    }\n",
       "\n",
       "    .dataframe tbody tr th {\n",
       "        vertical-align: top;\n",
       "    }\n",
       "\n",
       "    .dataframe thead th {\n",
       "        text-align: right;\n",
       "    }\n",
       "</style>\n",
       "<table border=\"1\" class=\"dataframe\">\n",
       "  <thead>\n",
       "    <tr style=\"text-align: right;\">\n",
       "      <th></th>\n",
       "      <th>id</th>\n",
       "      <th>funded_amount</th>\n",
       "      <th>loan_amount</th>\n",
       "      <th>activity</th>\n",
       "      <th>sector</th>\n",
       "      <th>country</th>\n",
       "      <th>region</th>\n",
       "      <th>currency</th>\n",
       "      <th>partner_id</th>\n",
       "      <th>posted_time</th>\n",
       "      <th>funded_time</th>\n",
       "      <th>term_in_months</th>\n",
       "      <th>lender_count</th>\n",
       "      <th>repayment_interval</th>\n",
       "    </tr>\n",
       "  </thead>\n",
       "  <tbody>\n",
       "    <tr>\n",
       "      <th>0</th>\n",
       "      <td>823048</td>\n",
       "      <td>450</td>\n",
       "      <td>450</td>\n",
       "      <td>Butcher Shop</td>\n",
       "      <td>Food</td>\n",
       "      <td>Philippines</td>\n",
       "      <td>Kabankalan, Negros Occidental</td>\n",
       "      <td>PHP</td>\n",
       "      <td>145</td>\n",
       "      <td>2015-01-01 02:38:53</td>\n",
       "      <td>2015-01-01 16:20:50</td>\n",
       "      <td>8</td>\n",
       "      <td>14</td>\n",
       "      <td>irregular</td>\n",
       "    </tr>\n",
       "    <tr>\n",
       "      <th>1</th>\n",
       "      <td>823138</td>\n",
       "      <td>200</td>\n",
       "      <td>200</td>\n",
       "      <td>Food Production/Sales</td>\n",
       "      <td>Food</td>\n",
       "      <td>Philippines</td>\n",
       "      <td>Baybay, Leyte</td>\n",
       "      <td>PHP</td>\n",
       "      <td>125</td>\n",
       "      <td>2015-01-01 15:57:25</td>\n",
       "      <td>2015-01-05 00:21:31</td>\n",
       "      <td>10</td>\n",
       "      <td>5</td>\n",
       "      <td>irregular</td>\n",
       "    </tr>\n",
       "    <tr>\n",
       "      <th>2</th>\n",
       "      <td>823051</td>\n",
       "      <td>175</td>\n",
       "      <td>175</td>\n",
       "      <td>Fruits &amp; Vegetables</td>\n",
       "      <td>Food</td>\n",
       "      <td>Philippines</td>\n",
       "      <td>Kabankalan, Negros Occidental</td>\n",
       "      <td>PHP</td>\n",
       "      <td>145</td>\n",
       "      <td>2015-01-01 02:49:11</td>\n",
       "      <td>2015-01-01 06:12:18</td>\n",
       "      <td>8</td>\n",
       "      <td>4</td>\n",
       "      <td>irregular</td>\n",
       "    </tr>\n",
       "    <tr>\n",
       "      <th>3</th>\n",
       "      <td>823143</td>\n",
       "      <td>675</td>\n",
       "      <td>675</td>\n",
       "      <td>Fishing</td>\n",
       "      <td>Food</td>\n",
       "      <td>Philippines</td>\n",
       "      <td>Carles, Iloilo</td>\n",
       "      <td>PHP</td>\n",
       "      <td>125</td>\n",
       "      <td>2015-01-01 16:20:43</td>\n",
       "      <td>2015-01-05 19:21:50</td>\n",
       "      <td>20</td>\n",
       "      <td>26</td>\n",
       "      <td>irregular</td>\n",
       "    </tr>\n",
       "    <tr>\n",
       "      <th>4</th>\n",
       "      <td>823154</td>\n",
       "      <td>1450</td>\n",
       "      <td>1450</td>\n",
       "      <td>Agriculture</td>\n",
       "      <td>Agriculture</td>\n",
       "      <td>Kenya</td>\n",
       "      <td>Webuye</td>\n",
       "      <td>KES</td>\n",
       "      <td>202</td>\n",
       "      <td>2015-01-01 19:59:25</td>\n",
       "      <td>2015-01-04 22:16:31</td>\n",
       "      <td>11</td>\n",
       "      <td>45</td>\n",
       "      <td>bullet</td>\n",
       "    </tr>\n",
       "    <tr>\n",
       "      <th>5</th>\n",
       "      <td>823117</td>\n",
       "      <td>250</td>\n",
       "      <td>250</td>\n",
       "      <td>Liquor Store / Off-License</td>\n",
       "      <td>Food</td>\n",
       "      <td>Philippines</td>\n",
       "      <td>Tacloban City, Leyte</td>\n",
       "      <td>PHP</td>\n",
       "      <td>145</td>\n",
       "      <td>2015-01-01 14:14:57</td>\n",
       "      <td>2015-01-03 01:31:28</td>\n",
       "      <td>8</td>\n",
       "      <td>7</td>\n",
       "      <td>irregular</td>\n",
       "    </tr>\n",
       "    <tr>\n",
       "      <th>6</th>\n",
       "      <td>823100</td>\n",
       "      <td>450</td>\n",
       "      <td>450</td>\n",
       "      <td>Cloth &amp; Dressmaking Supplies</td>\n",
       "      <td>Retail</td>\n",
       "      <td>Pakistan</td>\n",
       "      <td>Jaranwala</td>\n",
       "      <td>PKR</td>\n",
       "      <td>245</td>\n",
       "      <td>2015-01-01 12:09:06</td>\n",
       "      <td>2015-01-30 03:22:37</td>\n",
       "      <td>14</td>\n",
       "      <td>16</td>\n",
       "      <td>monthly</td>\n",
       "    </tr>\n",
       "    <tr>\n",
       "      <th>7</th>\n",
       "      <td>823132</td>\n",
       "      <td>900</td>\n",
       "      <td>900</td>\n",
       "      <td>Pigs</td>\n",
       "      <td>Agriculture</td>\n",
       "      <td>Philippines</td>\n",
       "      <td>Baybay, Leyte</td>\n",
       "      <td>PHP</td>\n",
       "      <td>125</td>\n",
       "      <td>2015-01-01 15:36:55</td>\n",
       "      <td>2015-01-27 01:34:00</td>\n",
       "      <td>12</td>\n",
       "      <td>19</td>\n",
       "      <td>irregular</td>\n",
       "    </tr>\n",
       "    <tr>\n",
       "      <th>8</th>\n",
       "      <td>823137</td>\n",
       "      <td>225</td>\n",
       "      <td>225</td>\n",
       "      <td>Food Production/Sales</td>\n",
       "      <td>Food</td>\n",
       "      <td>Philippines</td>\n",
       "      <td>Baybay, Leyte</td>\n",
       "      <td>PHP</td>\n",
       "      <td>125</td>\n",
       "      <td>2015-01-01 15:52:50</td>\n",
       "      <td>2015-01-03 22:37:06</td>\n",
       "      <td>12</td>\n",
       "      <td>7</td>\n",
       "      <td>irregular</td>\n",
       "    </tr>\n",
       "    <tr>\n",
       "      <th>9</th>\n",
       "      <td>823050</td>\n",
       "      <td>250</td>\n",
       "      <td>250</td>\n",
       "      <td>Food Production/Sales</td>\n",
       "      <td>Food</td>\n",
       "      <td>Philippines</td>\n",
       "      <td>Kabankalan, Negros Occidental</td>\n",
       "      <td>PHP</td>\n",
       "      <td>145</td>\n",
       "      <td>2015-01-01 02:44:45</td>\n",
       "      <td>2015-01-01 04:29:02</td>\n",
       "      <td>5</td>\n",
       "      <td>7</td>\n",
       "      <td>irregular</td>\n",
       "    </tr>\n",
       "  </tbody>\n",
       "</table>\n",
       "</div>"
      ],
      "text/plain": [
       "       id  funded_amount  loan_amount                      activity  \\\n",
       "0  823048            450          450                  Butcher Shop   \n",
       "1  823138            200          200         Food Production/Sales   \n",
       "2  823051            175          175           Fruits & Vegetables   \n",
       "3  823143            675          675                       Fishing   \n",
       "4  823154           1450         1450                   Agriculture   \n",
       "5  823117            250          250    Liquor Store / Off-License   \n",
       "6  823100            450          450  Cloth & Dressmaking Supplies   \n",
       "7  823132            900          900                          Pigs   \n",
       "8  823137            225          225         Food Production/Sales   \n",
       "9  823050            250          250         Food Production/Sales   \n",
       "\n",
       "        sector      country                         region currency  \\\n",
       "0         Food  Philippines  Kabankalan, Negros Occidental      PHP   \n",
       "1         Food  Philippines                  Baybay, Leyte      PHP   \n",
       "2         Food  Philippines  Kabankalan, Negros Occidental      PHP   \n",
       "3         Food  Philippines                 Carles, Iloilo      PHP   \n",
       "4  Agriculture        Kenya                         Webuye      KES   \n",
       "5         Food  Philippines           Tacloban City, Leyte      PHP   \n",
       "6       Retail     Pakistan                      Jaranwala      PKR   \n",
       "7  Agriculture  Philippines                  Baybay, Leyte      PHP   \n",
       "8         Food  Philippines                  Baybay, Leyte      PHP   \n",
       "9         Food  Philippines  Kabankalan, Negros Occidental      PHP   \n",
       "\n",
       "   partner_id          posted_time          funded_time  term_in_months  \\\n",
       "0         145  2015-01-01 02:38:53  2015-01-01 16:20:50               8   \n",
       "1         125  2015-01-01 15:57:25  2015-01-05 00:21:31              10   \n",
       "2         145  2015-01-01 02:49:11  2015-01-01 06:12:18               8   \n",
       "3         125  2015-01-01 16:20:43  2015-01-05 19:21:50              20   \n",
       "4         202  2015-01-01 19:59:25  2015-01-04 22:16:31              11   \n",
       "5         145  2015-01-01 14:14:57  2015-01-03 01:31:28               8   \n",
       "6         245  2015-01-01 12:09:06  2015-01-30 03:22:37              14   \n",
       "7         125  2015-01-01 15:36:55  2015-01-27 01:34:00              12   \n",
       "8         125  2015-01-01 15:52:50  2015-01-03 22:37:06              12   \n",
       "9         145  2015-01-01 02:44:45  2015-01-01 04:29:02               5   \n",
       "\n",
       "   lender_count repayment_interval  \n",
       "0            14          irregular  \n",
       "1             5          irregular  \n",
       "2             4          irregular  \n",
       "3            26          irregular  \n",
       "4            45             bullet  \n",
       "5             7          irregular  \n",
       "6            16            monthly  \n",
       "7            19          irregular  \n",
       "8             7          irregular  \n",
       "9             7          irregular  "
      ]
     },
     "execution_count": 29,
     "metadata": {},
     "output_type": "execute_result"
    }
   ],
   "source": [
    "kiva.head(10)"
   ]
  },
  {
   "cell_type": "markdown",
   "metadata": {},
   "source": [
    "To see the last *n* observation of our data, we can use `tail`."
   ]
  },
  {
   "cell_type": "code",
   "execution_count": 30,
   "metadata": {},
   "outputs": [
    {
     "data": {
      "text/html": [
       "<div>\n",
       "<style scoped>\n",
       "    .dataframe tbody tr th:only-of-type {\n",
       "        vertical-align: middle;\n",
       "    }\n",
       "\n",
       "    .dataframe tbody tr th {\n",
       "        vertical-align: top;\n",
       "    }\n",
       "\n",
       "    .dataframe thead th {\n",
       "        text-align: right;\n",
       "    }\n",
       "</style>\n",
       "<table border=\"1\" class=\"dataframe\">\n",
       "  <thead>\n",
       "    <tr style=\"text-align: right;\">\n",
       "      <th></th>\n",
       "      <th>id</th>\n",
       "      <th>funded_amount</th>\n",
       "      <th>loan_amount</th>\n",
       "      <th>activity</th>\n",
       "      <th>sector</th>\n",
       "      <th>country</th>\n",
       "      <th>region</th>\n",
       "      <th>currency</th>\n",
       "      <th>partner_id</th>\n",
       "      <th>posted_time</th>\n",
       "      <th>funded_time</th>\n",
       "      <th>term_in_months</th>\n",
       "      <th>lender_count</th>\n",
       "      <th>repayment_interval</th>\n",
       "    </tr>\n",
       "  </thead>\n",
       "  <tbody>\n",
       "    <tr>\n",
       "      <th>165030</th>\n",
       "      <td>1002871</td>\n",
       "      <td>500</td>\n",
       "      <td>500</td>\n",
       "      <td>Sewing</td>\n",
       "      <td>Services</td>\n",
       "      <td>El Salvador</td>\n",
       "      <td>NaN</td>\n",
       "      <td>USD</td>\n",
       "      <td>81</td>\n",
       "      <td>2015-12-31 18:30:32</td>\n",
       "      <td>2016-01-04 22:39:36</td>\n",
       "      <td>14</td>\n",
       "      <td>17</td>\n",
       "      <td>monthly</td>\n",
       "    </tr>\n",
       "    <tr>\n",
       "      <th>165031</th>\n",
       "      <td>1002657</td>\n",
       "      <td>650</td>\n",
       "      <td>650</td>\n",
       "      <td>Dairy</td>\n",
       "      <td>Agriculture</td>\n",
       "      <td>Tajikistan</td>\n",
       "      <td>Zafarabad</td>\n",
       "      <td>TJS</td>\n",
       "      <td>100</td>\n",
       "      <td>2015-12-31 05:28:39</td>\n",
       "      <td>2016-01-10 14:29:21</td>\n",
       "      <td>20</td>\n",
       "      <td>24</td>\n",
       "      <td>monthly</td>\n",
       "    </tr>\n",
       "    <tr>\n",
       "      <th>165032</th>\n",
       "      <td>1002622</td>\n",
       "      <td>5450</td>\n",
       "      <td>5450</td>\n",
       "      <td>Food Stall</td>\n",
       "      <td>Food</td>\n",
       "      <td>Guatemala</td>\n",
       "      <td>Patulul, Suchitepequez</td>\n",
       "      <td>GTQ</td>\n",
       "      <td>55</td>\n",
       "      <td>2015-12-31 03:38:52</td>\n",
       "      <td>2016-01-28 00:38:08</td>\n",
       "      <td>14</td>\n",
       "      <td>173</td>\n",
       "      <td>monthly</td>\n",
       "    </tr>\n",
       "    <tr>\n",
       "      <th>165033</th>\n",
       "      <td>1002765</td>\n",
       "      <td>200</td>\n",
       "      <td>200</td>\n",
       "      <td>Grocery Store</td>\n",
       "      <td>Food</td>\n",
       "      <td>Kenya</td>\n",
       "      <td>Voi</td>\n",
       "      <td>KES</td>\n",
       "      <td>164</td>\n",
       "      <td>2015-12-31 10:56:04</td>\n",
       "      <td>2016-01-01 06:17:07</td>\n",
       "      <td>13</td>\n",
       "      <td>8</td>\n",
       "      <td>irregular</td>\n",
       "    </tr>\n",
       "    <tr>\n",
       "      <th>165034</th>\n",
       "      <td>1002658</td>\n",
       "      <td>225</td>\n",
       "      <td>225</td>\n",
       "      <td>Sewing</td>\n",
       "      <td>Services</td>\n",
       "      <td>Tajikistan</td>\n",
       "      <td>Tursun-zoda</td>\n",
       "      <td>TJS</td>\n",
       "      <td>63</td>\n",
       "      <td>2015-12-31 05:33:47</td>\n",
       "      <td>2015-12-31 19:47:21</td>\n",
       "      <td>14</td>\n",
       "      <td>8</td>\n",
       "      <td>monthly</td>\n",
       "    </tr>\n",
       "    <tr>\n",
       "      <th>165035</th>\n",
       "      <td>1002602</td>\n",
       "      <td>1500</td>\n",
       "      <td>1500</td>\n",
       "      <td>Personal Housing Expenses</td>\n",
       "      <td>Housing</td>\n",
       "      <td>Cambodia</td>\n",
       "      <td>Kampong Speu</td>\n",
       "      <td>KHR</td>\n",
       "      <td>106</td>\n",
       "      <td>2015-12-31 01:57:56</td>\n",
       "      <td>2015-12-31 21:00:58</td>\n",
       "      <td>26</td>\n",
       "      <td>56</td>\n",
       "      <td>monthly</td>\n",
       "    </tr>\n",
       "    <tr>\n",
       "      <th>165036</th>\n",
       "      <td>1002761</td>\n",
       "      <td>1500</td>\n",
       "      <td>1500</td>\n",
       "      <td>Farming</td>\n",
       "      <td>Agriculture</td>\n",
       "      <td>Cambodia</td>\n",
       "      <td>Kampong Cham province, Ponhea Krek district</td>\n",
       "      <td>KHR</td>\n",
       "      <td>204</td>\n",
       "      <td>2015-12-31 10:54:52</td>\n",
       "      <td>2016-01-03 03:48:36</td>\n",
       "      <td>13</td>\n",
       "      <td>54</td>\n",
       "      <td>monthly</td>\n",
       "    </tr>\n",
       "    <tr>\n",
       "      <th>165037</th>\n",
       "      <td>1002668</td>\n",
       "      <td>725</td>\n",
       "      <td>725</td>\n",
       "      <td>Beauty Salon</td>\n",
       "      <td>Services</td>\n",
       "      <td>Pakistan</td>\n",
       "      <td>Lahore</td>\n",
       "      <td>PKR</td>\n",
       "      <td>247</td>\n",
       "      <td>2015-12-31 06:18:49</td>\n",
       "      <td>2016-01-27 17:52:55</td>\n",
       "      <td>13</td>\n",
       "      <td>28</td>\n",
       "      <td>monthly</td>\n",
       "    </tr>\n",
       "    <tr>\n",
       "      <th>165038</th>\n",
       "      <td>1002832</td>\n",
       "      <td>550</td>\n",
       "      <td>550</td>\n",
       "      <td>Food Production/Sales</td>\n",
       "      <td>Food</td>\n",
       "      <td>El Salvador</td>\n",
       "      <td>La Unión</td>\n",
       "      <td>USD</td>\n",
       "      <td>199</td>\n",
       "      <td>2015-12-31 15:26:08</td>\n",
       "      <td>2016-01-05 00:28:49</td>\n",
       "      <td>20</td>\n",
       "      <td>21</td>\n",
       "      <td>monthly</td>\n",
       "    </tr>\n",
       "    <tr>\n",
       "      <th>165039</th>\n",
       "      <td>1002773</td>\n",
       "      <td>500</td>\n",
       "      <td>500</td>\n",
       "      <td>Grocery Store</td>\n",
       "      <td>Food</td>\n",
       "      <td>Kenya</td>\n",
       "      <td>Voi</td>\n",
       "      <td>KES</td>\n",
       "      <td>164</td>\n",
       "      <td>2015-12-31 11:01:43</td>\n",
       "      <td>2015-12-31 22:08:27</td>\n",
       "      <td>13</td>\n",
       "      <td>12</td>\n",
       "      <td>irregular</td>\n",
       "    </tr>\n",
       "  </tbody>\n",
       "</table>\n",
       "</div>"
      ],
      "text/plain": [
       "             id  funded_amount  loan_amount                   activity  \\\n",
       "165030  1002871            500          500                     Sewing   \n",
       "165031  1002657            650          650                      Dairy   \n",
       "165032  1002622           5450         5450                 Food Stall   \n",
       "165033  1002765            200          200              Grocery Store   \n",
       "165034  1002658            225          225                     Sewing   \n",
       "165035  1002602           1500         1500  Personal Housing Expenses   \n",
       "165036  1002761           1500         1500                    Farming   \n",
       "165037  1002668            725          725               Beauty Salon   \n",
       "165038  1002832            550          550      Food Production/Sales   \n",
       "165039  1002773            500          500              Grocery Store   \n",
       "\n",
       "             sector      country                                       region  \\\n",
       "165030     Services  El Salvador                                          NaN   \n",
       "165031  Agriculture   Tajikistan                                    Zafarabad   \n",
       "165032         Food    Guatemala                       Patulul, Suchitepequez   \n",
       "165033         Food        Kenya                                          Voi   \n",
       "165034     Services   Tajikistan                                  Tursun-zoda   \n",
       "165035      Housing     Cambodia                                 Kampong Speu   \n",
       "165036  Agriculture     Cambodia  Kampong Cham province, Ponhea Krek district   \n",
       "165037     Services     Pakistan                                       Lahore   \n",
       "165038         Food  El Salvador                                     La Unión   \n",
       "165039         Food        Kenya                                          Voi   \n",
       "\n",
       "       currency  partner_id          posted_time          funded_time  \\\n",
       "165030      USD          81  2015-12-31 18:30:32  2016-01-04 22:39:36   \n",
       "165031      TJS         100  2015-12-31 05:28:39  2016-01-10 14:29:21   \n",
       "165032      GTQ          55  2015-12-31 03:38:52  2016-01-28 00:38:08   \n",
       "165033      KES         164  2015-12-31 10:56:04  2016-01-01 06:17:07   \n",
       "165034      TJS          63  2015-12-31 05:33:47  2015-12-31 19:47:21   \n",
       "165035      KHR         106  2015-12-31 01:57:56  2015-12-31 21:00:58   \n",
       "165036      KHR         204  2015-12-31 10:54:52  2016-01-03 03:48:36   \n",
       "165037      PKR         247  2015-12-31 06:18:49  2016-01-27 17:52:55   \n",
       "165038      USD         199  2015-12-31 15:26:08  2016-01-05 00:28:49   \n",
       "165039      KES         164  2015-12-31 11:01:43  2015-12-31 22:08:27   \n",
       "\n",
       "        term_in_months  lender_count repayment_interval  \n",
       "165030              14            17            monthly  \n",
       "165031              20            24            monthly  \n",
       "165032              14           173            monthly  \n",
       "165033              13             8          irregular  \n",
       "165034              14             8            monthly  \n",
       "165035              26            56            monthly  \n",
       "165036              13            54            monthly  \n",
       "165037              13            28            monthly  \n",
       "165038              20            21            monthly  \n",
       "165039              13            12          irregular  "
      ]
     },
     "execution_count": 30,
     "metadata": {},
     "output_type": "execute_result"
    }
   ],
   "source": [
    "# Display the last 6 observations\n",
    "kiva.tail(10)"
   ]
  },
  {
   "cell_type": "markdown",
   "metadata": {},
   "source": [
    "## Data Preprocessing\n",
    "\n",
    "### Check Missing Values\n",
    "\n",
    "Here we will check if there is any missing values in our dataset."
   ]
  },
  {
   "cell_type": "code",
   "execution_count": 36,
   "metadata": {},
   "outputs": [
    {
     "data": {
      "text/plain": [
       "id                        0\n",
       "funded_amount             0\n",
       "loan_amount               0\n",
       "activity                  0\n",
       "sector                    0\n",
       "country                   0\n",
       "region                11746\n",
       "currency                  0\n",
       "partner_id                0\n",
       "posted_time               0\n",
       "funded_time               0\n",
       "term_in_months            0\n",
       "lender_count              0\n",
       "repayment_interval        0\n",
       "dtype: int64"
      ]
     },
     "execution_count": 36,
     "metadata": {},
     "output_type": "execute_result"
    }
   ],
   "source": [
    "kiva.isnull().sum()"
   ]
  },
  {
   "cell_type": "markdown",
   "metadata": {},
   "source": [
    "Almost all columns except for the region contain no missing values. You can leave it as it is or you can choose to drop all observations that contain missing values like the following codes. The `inplace=True` means that the data will automatically updated and all missing values is permanently gone from the dataset."
   ]
  },
  {
   "cell_type": "code",
   "execution_count": 38,
   "metadata": {},
   "outputs": [
    {
     "data": {
      "text/plain": [
       "(153294, 14)"
      ]
     },
     "execution_count": 38,
     "metadata": {},
     "output_type": "execute_result"
    }
   ],
   "source": [
    "kiva.dropna(inplace= True)\n",
    "\n",
    "kiva.shape"
   ]
  },
  {
   "cell_type": "markdown",
   "metadata": {},
   "source": [
    "After we remove the observations with missing values, we have around 153,000 observations left.\n",
    "\n",
    "### Check Duplicate Data\n",
    "\n",
    "We will also check if there is any duplicated data."
   ]
  },
  {
   "cell_type": "code",
   "execution_count": 13,
   "metadata": {},
   "outputs": [
    {
     "data": {
      "text/plain": [
       "(0, 14)"
      ]
     },
     "execution_count": 13,
     "metadata": {},
     "output_type": "execute_result"
    }
   ],
   "source": [
    "duplicated_row = kiva[kiva.duplicated()]\n",
    "\n",
    "duplicated_row.shape"
   ]
  },
  {
   "cell_type": "markdown",
   "metadata": {},
   "source": [
    "Based on the output above, there is 0 observations that indicated as a duplicate. Therefore, we can safely conclude that there is no duplicated observations in our dataset.\n",
    "\n",
    "### Data Transformation\n",
    "\n",
    "Here we will convert the `posted_time` and `funded_time` columns into proper date format."
   ]
  },
  {
   "cell_type": "code",
   "execution_count": 61,
   "metadata": {},
   "outputs": [
    {
     "data": {
      "text/plain": [
       "id                             int64\n",
       "funded_amount                  int64\n",
       "loan_amount                    int64\n",
       "activity                      object\n",
       "sector                        object\n",
       "country                       object\n",
       "region                        object\n",
       "currency                      object\n",
       "partner_id                     int64\n",
       "posted_time           datetime64[ns]\n",
       "funded_time           datetime64[ns]\n",
       "term_in_months                 int64\n",
       "lender_count                   int64\n",
       "repayment_interval            object\n",
       "dtype: object"
      ]
     },
     "execution_count": 61,
     "metadata": {},
     "output_type": "execute_result"
    }
   ],
   "source": [
    "kiva['posted_time'] = pd.to_datetime(kiva['posted_time'])\n",
    "kiva['funded_time'] = pd.to_datetime(kiva['funded_time'])\n",
    "\n",
    "kiva.dtypes"
   ]
  },
  {
   "cell_type": "markdown",
   "metadata": {},
   "source": [
    "We will also create a new column with information of the hour, month, and weekday of the posted time. We will also create a new column that contains the time difference between the first posted time of the loan until the loan is fully funded. The funding duration will be presented as a time difference in days."
   ]
  },
  {
   "cell_type": "code",
   "execution_count": 159,
   "metadata": {},
   "outputs": [
    {
     "data": {
      "text/html": [
       "<div>\n",
       "<style scoped>\n",
       "    .dataframe tbody tr th:only-of-type {\n",
       "        vertical-align: middle;\n",
       "    }\n",
       "\n",
       "    .dataframe tbody tr th {\n",
       "        vertical-align: top;\n",
       "    }\n",
       "\n",
       "    .dataframe thead th {\n",
       "        text-align: right;\n",
       "    }\n",
       "</style>\n",
       "<table border=\"1\" class=\"dataframe\">\n",
       "  <thead>\n",
       "    <tr style=\"text-align: right;\">\n",
       "      <th></th>\n",
       "      <th>id</th>\n",
       "      <th>funded_amount</th>\n",
       "      <th>loan_amount</th>\n",
       "      <th>activity</th>\n",
       "      <th>sector</th>\n",
       "      <th>country</th>\n",
       "      <th>region</th>\n",
       "      <th>currency</th>\n",
       "      <th>partner_id</th>\n",
       "      <th>posted_time</th>\n",
       "      <th>funded_time</th>\n",
       "      <th>term_in_months</th>\n",
       "      <th>lender_count</th>\n",
       "      <th>repayment_interval</th>\n",
       "      <th>posted_hour</th>\n",
       "      <th>posted_month</th>\n",
       "      <th>posted_day</th>\n",
       "      <th>funding_duration</th>\n",
       "    </tr>\n",
       "  </thead>\n",
       "  <tbody>\n",
       "    <tr>\n",
       "      <th>0</th>\n",
       "      <td>823048</td>\n",
       "      <td>450</td>\n",
       "      <td>450</td>\n",
       "      <td>Butcher Shop</td>\n",
       "      <td>Food</td>\n",
       "      <td>Philippines</td>\n",
       "      <td>Kabankalan, Negros Occidental</td>\n",
       "      <td>PHP</td>\n",
       "      <td>145</td>\n",
       "      <td>2015-01-01 02:38:53</td>\n",
       "      <td>2015-01-01 16:20:50</td>\n",
       "      <td>8</td>\n",
       "      <td>14</td>\n",
       "      <td>irregular</td>\n",
       "      <td>2</td>\n",
       "      <td>1</td>\n",
       "      <td>Thursday</td>\n",
       "      <td>0.0</td>\n",
       "    </tr>\n",
       "    <tr>\n",
       "      <th>1</th>\n",
       "      <td>823138</td>\n",
       "      <td>200</td>\n",
       "      <td>200</td>\n",
       "      <td>Food Production/Sales</td>\n",
       "      <td>Food</td>\n",
       "      <td>Philippines</td>\n",
       "      <td>Baybay, Leyte</td>\n",
       "      <td>PHP</td>\n",
       "      <td>125</td>\n",
       "      <td>2015-01-01 15:57:25</td>\n",
       "      <td>2015-01-05 00:21:31</td>\n",
       "      <td>10</td>\n",
       "      <td>5</td>\n",
       "      <td>irregular</td>\n",
       "      <td>15</td>\n",
       "      <td>1</td>\n",
       "      <td>Thursday</td>\n",
       "      <td>3.0</td>\n",
       "    </tr>\n",
       "    <tr>\n",
       "      <th>2</th>\n",
       "      <td>823051</td>\n",
       "      <td>175</td>\n",
       "      <td>175</td>\n",
       "      <td>Fruits &amp; Vegetables</td>\n",
       "      <td>Food</td>\n",
       "      <td>Philippines</td>\n",
       "      <td>Kabankalan, Negros Occidental</td>\n",
       "      <td>PHP</td>\n",
       "      <td>145</td>\n",
       "      <td>2015-01-01 02:49:11</td>\n",
       "      <td>2015-01-01 06:12:18</td>\n",
       "      <td>8</td>\n",
       "      <td>4</td>\n",
       "      <td>irregular</td>\n",
       "      <td>2</td>\n",
       "      <td>1</td>\n",
       "      <td>Thursday</td>\n",
       "      <td>0.0</td>\n",
       "    </tr>\n",
       "    <tr>\n",
       "      <th>3</th>\n",
       "      <td>823143</td>\n",
       "      <td>675</td>\n",
       "      <td>675</td>\n",
       "      <td>Fishing</td>\n",
       "      <td>Food</td>\n",
       "      <td>Philippines</td>\n",
       "      <td>Carles, Iloilo</td>\n",
       "      <td>PHP</td>\n",
       "      <td>125</td>\n",
       "      <td>2015-01-01 16:20:43</td>\n",
       "      <td>2015-01-05 19:21:50</td>\n",
       "      <td>20</td>\n",
       "      <td>26</td>\n",
       "      <td>irregular</td>\n",
       "      <td>16</td>\n",
       "      <td>1</td>\n",
       "      <td>Thursday</td>\n",
       "      <td>4.0</td>\n",
       "    </tr>\n",
       "    <tr>\n",
       "      <th>4</th>\n",
       "      <td>823154</td>\n",
       "      <td>1450</td>\n",
       "      <td>1450</td>\n",
       "      <td>Agriculture</td>\n",
       "      <td>Agriculture</td>\n",
       "      <td>Kenya</td>\n",
       "      <td>Webuye</td>\n",
       "      <td>KES</td>\n",
       "      <td>202</td>\n",
       "      <td>2015-01-01 19:59:25</td>\n",
       "      <td>2015-01-04 22:16:31</td>\n",
       "      <td>11</td>\n",
       "      <td>45</td>\n",
       "      <td>bullet</td>\n",
       "      <td>19</td>\n",
       "      <td>1</td>\n",
       "      <td>Thursday</td>\n",
       "      <td>3.0</td>\n",
       "    </tr>\n",
       "  </tbody>\n",
       "</table>\n",
       "</div>"
      ],
      "text/plain": [
       "       id  funded_amount  loan_amount               activity       sector  \\\n",
       "0  823048            450          450           Butcher Shop         Food   \n",
       "1  823138            200          200  Food Production/Sales         Food   \n",
       "2  823051            175          175    Fruits & Vegetables         Food   \n",
       "3  823143            675          675                Fishing         Food   \n",
       "4  823154           1450         1450            Agriculture  Agriculture   \n",
       "\n",
       "       country                         region currency  partner_id  \\\n",
       "0  Philippines  Kabankalan, Negros Occidental      PHP         145   \n",
       "1  Philippines                  Baybay, Leyte      PHP         125   \n",
       "2  Philippines  Kabankalan, Negros Occidental      PHP         145   \n",
       "3  Philippines                 Carles, Iloilo      PHP         125   \n",
       "4        Kenya                         Webuye      KES         202   \n",
       "\n",
       "          posted_time         funded_time  term_in_months  lender_count  \\\n",
       "0 2015-01-01 02:38:53 2015-01-01 16:20:50               8            14   \n",
       "1 2015-01-01 15:57:25 2015-01-05 00:21:31              10             5   \n",
       "2 2015-01-01 02:49:11 2015-01-01 06:12:18               8             4   \n",
       "3 2015-01-01 16:20:43 2015-01-05 19:21:50              20            26   \n",
       "4 2015-01-01 19:59:25 2015-01-04 22:16:31              11            45   \n",
       "\n",
       "  repayment_interval  posted_hour  posted_month posted_day  funding_duration  \n",
       "0          irregular            2             1   Thursday               0.0  \n",
       "1          irregular           15             1   Thursday               3.0  \n",
       "2          irregular            2             1   Thursday               0.0  \n",
       "3          irregular           16             1   Thursday               4.0  \n",
       "4             bullet           19             1   Thursday               3.0  "
      ]
     },
     "execution_count": 159,
     "metadata": {},
     "output_type": "execute_result"
    }
   ],
   "source": [
    "kiva['posted_hour'] = kiva['posted_time'].dt.hour\n",
    "kiva['posted_month'] = kiva['posted_time'].dt.month\n",
    "kiva['posted_day'] = pd.DatetimeIndex(kiva['posted_time']).day_name()\n",
    "kiva['funding_duration'] = (kiva['funded_time'] - kiva['posted_time']).astype('timedelta64[D]')\n",
    "\n",
    "kiva.head(5)"
   ]
  },
  {
   "cell_type": "markdown",
   "metadata": {},
   "source": [
    "# Exploratory Data Analysis\n",
    "\n",
    "In this part we will explore the data and find new insight by doing data aggregation and data visualization.\n",
    "\n",
    "## Data by Sector\n",
    "\n",
    "First we will look at which sector that has the most amount of loan request. To do this, we group the data based on the column `sector` and count how many data in each sector. After that, we sort the data descendingly from the highest to lowest."
   ]
  },
  {
   "cell_type": "code",
   "execution_count": 123,
   "metadata": {},
   "outputs": [
    {
     "data": {
      "text/plain": [
       "sector\n",
       "Agriculture       43396\n",
       "Food              32109\n",
       "Retail            29500\n",
       "Services           9715\n",
       "Personal Use       7498\n",
       "Clothing           6886\n",
       "Education          6875\n",
       "Housing            5524\n",
       "Transportation     3871\n",
       "Arts               2646\n",
       "Health             1741\n",
       "Manufacturing      1666\n",
       "Construction       1512\n",
       "Wholesale           191\n",
       "Entertainment       164\n",
       "Name: sector, dtype: int64"
      ]
     },
     "execution_count": 123,
     "metadata": {},
     "output_type": "execute_result"
    }
   ],
   "source": [
    "kiva_agg = kiva['sector'].groupby(kiva['sector']).count().sort_values(ascending=False)\n",
    "\n",
    "kiva_agg"
   ]
  },
  {
   "cell_type": "markdown",
   "metadata": {},
   "source": [
    "There are a lot of loan requests that come from the **agriculture, food, and retail** sector. We can visualize the result using a simple bar chart."
   ]
  },
  {
   "cell_type": "code",
   "execution_count": 131,
   "metadata": {},
   "outputs": [
    {
     "data": {
      "text/plain": [
       "<AxesSubplot:xlabel='sector'>"
      ]
     },
     "execution_count": 131,
     "metadata": {},
     "output_type": "execute_result"
    },
    {
     "data": {
      "image/png": "[encoded data removed]",
      "text/plain": [
       "<Figure size 432x288 with 1 Axes>"
      ]
     },
     "metadata": {
      "needs_background": "light"
     },
     "output_type": "display_data"
    }
   ],
   "source": [
    "kiva_agg.plot(kind='bar')"
   ]
  },
  {
   "cell_type": "markdown",
   "metadata": {},
   "source": [
    "Let's check the top 10 activities from the **agriculture** sector."
   ]
  },
  {
   "cell_type": "code",
   "execution_count": 149,
   "metadata": {},
   "outputs": [
    {
     "data": {
      "text/plain": [
       "activity\n",
       "Farming          16269\n",
       "Pigs              7220\n",
       "Agriculture       6203\n",
       "Livestock         3508\n",
       "Dairy             2538\n",
       "Poultry           2501\n",
       "Animal Sales      2348\n",
       "Cattle            1480\n",
       "Farm Supplies      965\n",
       "Flowers            241\n",
       "Name: activity, dtype: int64"
      ]
     },
     "execution_count": 149,
     "metadata": {},
     "output_type": "execute_result"
    }
   ],
   "source": [
    "kiva_agr = kiva.query('sector == \"Agriculture\"')\n",
    "\n",
    "kiva_agg = kiva_agr['activity'].groupby(kiva_agr['activity']).count().nlargest(10)\n",
    "\n",
    "kiva_agg"
   ]
  },
  {
   "cell_type": "code",
   "execution_count": 150,
   "metadata": {},
   "outputs": [
    {
     "data": {
      "text/plain": [
       "<AxesSubplot:xlabel='activity'>"
      ]
     },
     "execution_count": 150,
     "metadata": {},
     "output_type": "execute_result"
    },
    {
     "data": {
      "image/png": "[encoded data removed]",
      "text/plain": [
       "<Figure size 432x288 with 1 Axes>"
      ]
     },
     "metadata": {
      "needs_background": "light"
     },
     "output_type": "display_data"
    }
   ],
   "source": [
    "kiva_agg.plot(kind = 'bar')"
   ]
  },
  {
   "cell_type": "markdown",
   "metadata": {},
   "source": [
    "## Relation Between Amount of Loan with Number of Lender\n",
    "\n",
    "We will see if there is any interesting pattern between amount of loan requested with the number of lender. Does a higher amount of loan will need a lot more lender count?"
   ]
  },
  {
   "cell_type": "code",
   "execution_count": 151,
   "metadata": {},
   "outputs": [
    {
     "data": {
      "text/plain": [
       "Text(0, 0.5, 'Loan Amount')"
      ]
     },
     "execution_count": 151,
     "metadata": {},
     "output_type": "execute_result"
    },
    {
     "data": {
      "image/png": "[encoded data removed]",
      "text/plain": [
       "<Figure size 432x288 with 1 Axes>"
      ]
     },
     "metadata": {
      "needs_background": "light"
     },
     "output_type": "display_data"
    }
   ],
   "source": [
    "plt.scatter(kiva['lender_count'], kiva['loan_amount'])\n",
    "plt.xlabel('Lender Count')\n",
    "plt.ylabel('Loan Amount')"
   ]
  },
  {
   "cell_type": "markdown",
   "metadata": {},
   "source": [
    "Based on the scatterplot, most of the loan request has no more than 400 lenders with amount of loan less than USD 10,000. It also looks like that higher amount of loan requested is positively correlated with the number of lender."
   ]
  },
  {
   "cell_type": "markdown",
   "metadata": {},
   "source": [
    "## Duration to Get Fully Funded\n",
    "\n",
    "Next, let's inspect the average duration from posting the loan to get fully funded."
   ]
  },
  {
   "cell_type": "code",
   "execution_count": 160,
   "metadata": {},
   "outputs": [
    {
     "data": {
      "text/plain": [
       "14.076950174175115"
      ]
     },
     "execution_count": 160,
     "metadata": {},
     "output_type": "execute_result"
    }
   ],
   "source": [
    "kiva['funding_duration'].mean()"
   ]
  },
  {
   "cell_type": "markdown",
   "metadata": {},
   "source": [
    "The average duration between posting the loan until get fully funded is 14 days. We can get the full statistics using `describe()`."
   ]
  },
  {
   "cell_type": "code",
   "execution_count": 161,
   "metadata": {},
   "outputs": [
    {
     "data": {
      "text/plain": [
       "count    153294.00000\n",
       "mean         14.07695\n",
       "std          11.65286\n",
       "min           0.00000\n",
       "25%           4.00000\n",
       "50%          10.00000\n",
       "75%          24.00000\n",
       "max          68.00000\n",
       "Name: funding_duration, dtype: float64"
      ]
     },
     "execution_count": 161,
     "metadata": {},
     "output_type": "execute_result"
    }
   ],
   "source": [
    "kiva['funding_duration'].describe()"
   ]
  },
  {
   "cell_type": "markdown",
   "metadata": {},
   "source": [
    "We will further inspect the funding duration by looking at the average funding duration for each month of the year to see if the funding duration stay constant or get fluctuated around the year. "
   ]
  },
  {
   "cell_type": "code",
   "execution_count": 216,
   "metadata": {},
   "outputs": [
    {
     "data": {
      "text/plain": [
       "Text(0.5, 1.0, 'Average Funding Duration in Days')"
      ]
     },
     "execution_count": 216,
     "metadata": {},
     "output_type": "execute_result"
    },
    {
     "data": {
      "image/png": "[encoded data removed]",
      "text/plain": [
       "<Figure size 432x288 with 1 Axes>"
      ]
     },
     "metadata": {
      "needs_background": "light"
     },
     "output_type": "display_data"
    }
   ],
   "source": [
    "kiva_agg = kiva['funding_duration'].groupby(kiva['posted_month']).mean()\n",
    "\n",
    "plt.plot(kiva_agg)\n",
    "plt.xlabel(\"Month of the Year\")\n",
    "plt.ylabel('Funding Duration (Days)')\n",
    "plt.title('Average Funding Duration in Days')"
   ]
  },
  {
   "cell_type": "markdown",
   "metadata": {},
   "source": [
    "It looks like the funding duration reach its peak during the mid-year between June and August. Let's further inspect the average funding duration for the top 3 sectors."
   ]
  },
  {
   "cell_type": "code",
   "execution_count": 217,
   "metadata": {},
   "outputs": [
    {
     "data": {
      "text/html": [
       "<div>\n",
       "<style scoped>\n",
       "    .dataframe tbody tr th:only-of-type {\n",
       "        vertical-align: middle;\n",
       "    }\n",
       "\n",
       "    .dataframe tbody tr th {\n",
       "        vertical-align: top;\n",
       "    }\n",
       "\n",
       "    .dataframe thead tr th {\n",
       "        text-align: left;\n",
       "    }\n",
       "</style>\n",
       "<table border=\"1\" class=\"dataframe\">\n",
       "  <thead>\n",
       "    <tr>\n",
       "      <th></th>\n",
       "      <th>sector</th>\n",
       "      <th>posted_month</th>\n",
       "      <th>funding_duration</th>\n",
       "    </tr>\n",
       "    <tr>\n",
       "      <th></th>\n",
       "      <th></th>\n",
       "      <th></th>\n",
       "      <th>mean</th>\n",
       "    </tr>\n",
       "  </thead>\n",
       "  <tbody>\n",
       "    <tr>\n",
       "      <th>0</th>\n",
       "      <td>Agriculture</td>\n",
       "      <td>1</td>\n",
       "      <td>10.852416</td>\n",
       "    </tr>\n",
       "    <tr>\n",
       "      <th>1</th>\n",
       "      <td>Agriculture</td>\n",
       "      <td>2</td>\n",
       "      <td>13.095532</td>\n",
       "    </tr>\n",
       "    <tr>\n",
       "      <th>2</th>\n",
       "      <td>Agriculture</td>\n",
       "      <td>3</td>\n",
       "      <td>14.620456</td>\n",
       "    </tr>\n",
       "    <tr>\n",
       "      <th>3</th>\n",
       "      <td>Agriculture</td>\n",
       "      <td>4</td>\n",
       "      <td>17.374230</td>\n",
       "    </tr>\n",
       "    <tr>\n",
       "      <th>4</th>\n",
       "      <td>Agriculture</td>\n",
       "      <td>5</td>\n",
       "      <td>15.928708</td>\n",
       "    </tr>\n",
       "    <tr>\n",
       "      <th>5</th>\n",
       "      <td>Agriculture</td>\n",
       "      <td>6</td>\n",
       "      <td>17.166304</td>\n",
       "    </tr>\n",
       "    <tr>\n",
       "      <th>6</th>\n",
       "      <td>Agriculture</td>\n",
       "      <td>7</td>\n",
       "      <td>18.955479</td>\n",
       "    </tr>\n",
       "    <tr>\n",
       "      <th>7</th>\n",
       "      <td>Agriculture</td>\n",
       "      <td>8</td>\n",
       "      <td>16.531427</td>\n",
       "    </tr>\n",
       "    <tr>\n",
       "      <th>8</th>\n",
       "      <td>Agriculture</td>\n",
       "      <td>9</td>\n",
       "      <td>16.216208</td>\n",
       "    </tr>\n",
       "    <tr>\n",
       "      <th>9</th>\n",
       "      <td>Agriculture</td>\n",
       "      <td>10</td>\n",
       "      <td>16.714121</td>\n",
       "    </tr>\n",
       "    <tr>\n",
       "      <th>10</th>\n",
       "      <td>Agriculture</td>\n",
       "      <td>11</td>\n",
       "      <td>14.921225</td>\n",
       "    </tr>\n",
       "    <tr>\n",
       "      <th>11</th>\n",
       "      <td>Agriculture</td>\n",
       "      <td>12</td>\n",
       "      <td>11.586014</td>\n",
       "    </tr>\n",
       "    <tr>\n",
       "      <th>12</th>\n",
       "      <td>Food</td>\n",
       "      <td>1</td>\n",
       "      <td>9.915738</td>\n",
       "    </tr>\n",
       "    <tr>\n",
       "      <th>13</th>\n",
       "      <td>Food</td>\n",
       "      <td>2</td>\n",
       "      <td>9.674961</td>\n",
       "    </tr>\n",
       "    <tr>\n",
       "      <th>14</th>\n",
       "      <td>Food</td>\n",
       "      <td>3</td>\n",
       "      <td>11.808905</td>\n",
       "    </tr>\n",
       "    <tr>\n",
       "      <th>15</th>\n",
       "      <td>Food</td>\n",
       "      <td>4</td>\n",
       "      <td>12.989495</td>\n",
       "    </tr>\n",
       "    <tr>\n",
       "      <th>16</th>\n",
       "      <td>Food</td>\n",
       "      <td>5</td>\n",
       "      <td>14.291176</td>\n",
       "    </tr>\n",
       "    <tr>\n",
       "      <th>17</th>\n",
       "      <td>Food</td>\n",
       "      <td>6</td>\n",
       "      <td>15.839201</td>\n",
       "    </tr>\n",
       "    <tr>\n",
       "      <th>18</th>\n",
       "      <td>Food</td>\n",
       "      <td>7</td>\n",
       "      <td>16.849428</td>\n",
       "    </tr>\n",
       "    <tr>\n",
       "      <th>19</th>\n",
       "      <td>Food</td>\n",
       "      <td>8</td>\n",
       "      <td>15.946180</td>\n",
       "    </tr>\n",
       "    <tr>\n",
       "      <th>20</th>\n",
       "      <td>Food</td>\n",
       "      <td>9</td>\n",
       "      <td>15.005869</td>\n",
       "    </tr>\n",
       "    <tr>\n",
       "      <th>21</th>\n",
       "      <td>Food</td>\n",
       "      <td>10</td>\n",
       "      <td>17.096829</td>\n",
       "    </tr>\n",
       "    <tr>\n",
       "      <th>22</th>\n",
       "      <td>Food</td>\n",
       "      <td>11</td>\n",
       "      <td>14.752832</td>\n",
       "    </tr>\n",
       "    <tr>\n",
       "      <th>23</th>\n",
       "      <td>Food</td>\n",
       "      <td>12</td>\n",
       "      <td>10.755133</td>\n",
       "    </tr>\n",
       "    <tr>\n",
       "      <th>24</th>\n",
       "      <td>Retail</td>\n",
       "      <td>1</td>\n",
       "      <td>10.138128</td>\n",
       "    </tr>\n",
       "    <tr>\n",
       "      <th>25</th>\n",
       "      <td>Retail</td>\n",
       "      <td>2</td>\n",
       "      <td>11.369565</td>\n",
       "    </tr>\n",
       "    <tr>\n",
       "      <th>26</th>\n",
       "      <td>Retail</td>\n",
       "      <td>3</td>\n",
       "      <td>12.904046</td>\n",
       "    </tr>\n",
       "    <tr>\n",
       "      <th>27</th>\n",
       "      <td>Retail</td>\n",
       "      <td>4</td>\n",
       "      <td>14.038752</td>\n",
       "    </tr>\n",
       "    <tr>\n",
       "      <th>28</th>\n",
       "      <td>Retail</td>\n",
       "      <td>5</td>\n",
       "      <td>14.978748</td>\n",
       "    </tr>\n",
       "    <tr>\n",
       "      <th>29</th>\n",
       "      <td>Retail</td>\n",
       "      <td>6</td>\n",
       "      <td>16.890060</td>\n",
       "    </tr>\n",
       "    <tr>\n",
       "      <th>30</th>\n",
       "      <td>Retail</td>\n",
       "      <td>7</td>\n",
       "      <td>16.952623</td>\n",
       "    </tr>\n",
       "    <tr>\n",
       "      <th>31</th>\n",
       "      <td>Retail</td>\n",
       "      <td>8</td>\n",
       "      <td>16.942586</td>\n",
       "    </tr>\n",
       "    <tr>\n",
       "      <th>32</th>\n",
       "      <td>Retail</td>\n",
       "      <td>9</td>\n",
       "      <td>16.259464</td>\n",
       "    </tr>\n",
       "    <tr>\n",
       "      <th>33</th>\n",
       "      <td>Retail</td>\n",
       "      <td>10</td>\n",
       "      <td>17.319755</td>\n",
       "    </tr>\n",
       "    <tr>\n",
       "      <th>34</th>\n",
       "      <td>Retail</td>\n",
       "      <td>11</td>\n",
       "      <td>15.178625</td>\n",
       "    </tr>\n",
       "    <tr>\n",
       "      <th>35</th>\n",
       "      <td>Retail</td>\n",
       "      <td>12</td>\n",
       "      <td>12.095238</td>\n",
       "    </tr>\n",
       "  </tbody>\n",
       "</table>\n",
       "</div>"
      ],
      "text/plain": [
       "         sector posted_month funding_duration\n",
       "                                         mean\n",
       "0   Agriculture            1        10.852416\n",
       "1   Agriculture            2        13.095532\n",
       "2   Agriculture            3        14.620456\n",
       "3   Agriculture            4        17.374230\n",
       "4   Agriculture            5        15.928708\n",
       "5   Agriculture            6        17.166304\n",
       "6   Agriculture            7        18.955479\n",
       "7   Agriculture            8        16.531427\n",
       "8   Agriculture            9        16.216208\n",
       "9   Agriculture           10        16.714121\n",
       "10  Agriculture           11        14.921225\n",
       "11  Agriculture           12        11.586014\n",
       "12         Food            1         9.915738\n",
       "13         Food            2         9.674961\n",
       "14         Food            3        11.808905\n",
       "15         Food            4        12.989495\n",
       "16         Food            5        14.291176\n",
       "17         Food            6        15.839201\n",
       "18         Food            7        16.849428\n",
       "19         Food            8        15.946180\n",
       "20         Food            9        15.005869\n",
       "21         Food           10        17.096829\n",
       "22         Food           11        14.752832\n",
       "23         Food           12        10.755133\n",
       "24       Retail            1        10.138128\n",
       "25       Retail            2        11.369565\n",
       "26       Retail            3        12.904046\n",
       "27       Retail            4        14.038752\n",
       "28       Retail            5        14.978748\n",
       "29       Retail            6        16.890060\n",
       "30       Retail            7        16.952623\n",
       "31       Retail            8        16.942586\n",
       "32       Retail            9        16.259464\n",
       "33       Retail           10        17.319755\n",
       "34       Retail           11        15.178625\n",
       "35       Retail           12        12.095238"
      ]
     },
     "execution_count": 217,
     "metadata": {},
     "output_type": "execute_result"
    }
   ],
   "source": [
    "kiva_top = kiva['sector'].isin(['Agriculture', 'Food', 'Retail'])\n",
    "kiva_top = kiva[kiva_top]\n",
    "\n",
    "kiva_agg = kiva_top.groupby(['sector', 'posted_month']).agg({'funding_duration': ['mean']}).reset_index()\n",
    "\n",
    "kiva_agg"
   ]
  },
  {
   "cell_type": "markdown",
   "metadata": {},
   "source": [
    "We can transform the data using `pivot` for proper visualization."
   ]
  },
  {
   "cell_type": "code",
   "execution_count": 218,
   "metadata": {},
   "outputs": [
    {
     "data": {
      "text/html": [
       "<div>\n",
       "<style scoped>\n",
       "    .dataframe tbody tr th:only-of-type {\n",
       "        vertical-align: middle;\n",
       "    }\n",
       "\n",
       "    .dataframe tbody tr th {\n",
       "        vertical-align: top;\n",
       "    }\n",
       "\n",
       "    .dataframe thead tr th {\n",
       "        text-align: left;\n",
       "    }\n",
       "\n",
       "    .dataframe thead tr:last-of-type th {\n",
       "        text-align: right;\n",
       "    }\n",
       "</style>\n",
       "<table border=\"1\" class=\"dataframe\">\n",
       "  <thead>\n",
       "    <tr>\n",
       "      <th></th>\n",
       "      <th colspan=\"3\" halign=\"left\">funding_duration</th>\n",
       "    </tr>\n",
       "    <tr>\n",
       "      <th></th>\n",
       "      <th colspan=\"3\" halign=\"left\">mean</th>\n",
       "    </tr>\n",
       "    <tr>\n",
       "      <th>sector</th>\n",
       "      <th>Agriculture</th>\n",
       "      <th>Food</th>\n",
       "      <th>Retail</th>\n",
       "    </tr>\n",
       "    <tr>\n",
       "      <th>posted_month</th>\n",
       "      <th></th>\n",
       "      <th></th>\n",
       "      <th></th>\n",
       "    </tr>\n",
       "  </thead>\n",
       "  <tbody>\n",
       "    <tr>\n",
       "      <th>1</th>\n",
       "      <td>10.852416</td>\n",
       "      <td>9.915738</td>\n",
       "      <td>10.138128</td>\n",
       "    </tr>\n",
       "    <tr>\n",
       "      <th>2</th>\n",
       "      <td>13.095532</td>\n",
       "      <td>9.674961</td>\n",
       "      <td>11.369565</td>\n",
       "    </tr>\n",
       "    <tr>\n",
       "      <th>3</th>\n",
       "      <td>14.620456</td>\n",
       "      <td>11.808905</td>\n",
       "      <td>12.904046</td>\n",
       "    </tr>\n",
       "    <tr>\n",
       "      <th>4</th>\n",
       "      <td>17.374230</td>\n",
       "      <td>12.989495</td>\n",
       "      <td>14.038752</td>\n",
       "    </tr>\n",
       "    <tr>\n",
       "      <th>5</th>\n",
       "      <td>15.928708</td>\n",
       "      <td>14.291176</td>\n",
       "      <td>14.978748</td>\n",
       "    </tr>\n",
       "    <tr>\n",
       "      <th>6</th>\n",
       "      <td>17.166304</td>\n",
       "      <td>15.839201</td>\n",
       "      <td>16.890060</td>\n",
       "    </tr>\n",
       "    <tr>\n",
       "      <th>7</th>\n",
       "      <td>18.955479</td>\n",
       "      <td>16.849428</td>\n",
       "      <td>16.952623</td>\n",
       "    </tr>\n",
       "    <tr>\n",
       "      <th>8</th>\n",
       "      <td>16.531427</td>\n",
       "      <td>15.946180</td>\n",
       "      <td>16.942586</td>\n",
       "    </tr>\n",
       "    <tr>\n",
       "      <th>9</th>\n",
       "      <td>16.216208</td>\n",
       "      <td>15.005869</td>\n",
       "      <td>16.259464</td>\n",
       "    </tr>\n",
       "    <tr>\n",
       "      <th>10</th>\n",
       "      <td>16.714121</td>\n",
       "      <td>17.096829</td>\n",
       "      <td>17.319755</td>\n",
       "    </tr>\n",
       "    <tr>\n",
       "      <th>11</th>\n",
       "      <td>14.921225</td>\n",
       "      <td>14.752832</td>\n",
       "      <td>15.178625</td>\n",
       "    </tr>\n",
       "    <tr>\n",
       "      <th>12</th>\n",
       "      <td>11.586014</td>\n",
       "      <td>10.755133</td>\n",
       "      <td>12.095238</td>\n",
       "    </tr>\n",
       "  </tbody>\n",
       "</table>\n",
       "</div>"
      ],
      "text/plain": [
       "             funding_duration                      \n",
       "                         mean                      \n",
       "sector            Agriculture       Food     Retail\n",
       "posted_month                                       \n",
       "1                   10.852416   9.915738  10.138128\n",
       "2                   13.095532   9.674961  11.369565\n",
       "3                   14.620456  11.808905  12.904046\n",
       "4                   17.374230  12.989495  14.038752\n",
       "5                   15.928708  14.291176  14.978748\n",
       "6                   17.166304  15.839201  16.890060\n",
       "7                   18.955479  16.849428  16.952623\n",
       "8                   16.531427  15.946180  16.942586\n",
       "9                   16.216208  15.005869  16.259464\n",
       "10                  16.714121  17.096829  17.319755\n",
       "11                  14.921225  14.752832  15.178625\n",
       "12                  11.586014  10.755133  12.095238"
      ]
     },
     "execution_count": 218,
     "metadata": {},
     "output_type": "execute_result"
    }
   ],
   "source": [
    "kiva_pivot = kiva_agg.pivot(index = 'posted_month', columns='sector')\n",
    "\n",
    "kiva_pivot"
   ]
  },
  {
   "cell_type": "markdown",
   "metadata": {},
   "source": [
    "Finally, we draw the line chart for each sectors."
   ]
  },
  {
   "cell_type": "code",
   "execution_count": 227,
   "metadata": {},
   "outputs": [
    {
     "data": {
      "text/plain": [
       "<matplotlib.legend.Legend at 0x7f220c1509a0>"
      ]
     },
     "execution_count": 227,
     "metadata": {},
     "output_type": "execute_result"
    },
    {
     "data": {
      "image/png": "[encoded data removed]",
      "text/plain": [
       "<Figure size 432x288 with 1 Axes>"
      ]
     },
     "metadata": {
      "needs_background": "light"
     },
     "output_type": "display_data"
    }
   ],
   "source": [
    "kiva_pivot.plot()\n",
    "plt.xlabel('Month of the Year')\n",
    "plt.ylabel('Funding Duration (Days)')\n",
    "plt.title('Average Funding Duration in Days')\n",
    "plt.legend(kiva_agg['sector'].unique())"
   ]
  },
  {
   "cell_type": "markdown",
   "metadata": {},
   "source": [
    "Let's check if this correlate with the number of loan requested by month."
   ]
  },
  {
   "cell_type": "code",
   "execution_count": 237,
   "metadata": {},
   "outputs": [
    {
     "data": {
      "text/plain": [
       "<matplotlib.legend.Legend at 0x7f220fe18850>"
      ]
     },
     "execution_count": 237,
     "metadata": {},
     "output_type": "execute_result"
    },
    {
     "data": {
      "image/png": "[encoded data removed]",
      "text/plain": [
       "<Figure size 432x288 with 1 Axes>"
      ]
     },
     "metadata": {
      "needs_background": "light"
     },
     "output_type": "display_data"
    }
   ],
   "source": [
    "kiva_agg = kiva_top.groupby(['posted_month', 'sector']).agg({'id': ['count']}).reset_index()\n",
    "\n",
    "kiva_pivot = kiva_agg.pivot(index = 'posted_month', columns = 'sector')\n",
    "\n",
    "kiva_pivot.plot()\n",
    "plt.xlabel('Month of the Year')\n",
    "plt.ylabel('Number of Loan Request')\n",
    "plt.title('Number of Loan Request by Month')\n",
    "plt.legend(kiva_agg['sector'].unique())"
   ]
  },
  {
   "cell_type": "markdown",
   "metadata": {},
   "source": [
    "The number of loan requested for **Food** and **Retail** sectors are relatively constant througouh the year while the **Agriculture** sector tend to decrease after the mid-year."
   ]
  }
 ],
 "metadata": {
  "kernelspec": {
   "display_name": "Python 3",
   "language": "python",
   "name": "python3"
  },
  "language_info": {
   "codemirror_mode": {
    "name": "ipython",
    "version": 3
   },
   "file_extension": ".py",
   "mimetype": "text/x-python",
   "name": "python",
   "nbconvert_exporter": "python",
   "pygments_lexer": "ipython3",
   "version": "3.8.5"
  }
 },
 "nbformat": 4,
 "nbformat_minor": 4
}
